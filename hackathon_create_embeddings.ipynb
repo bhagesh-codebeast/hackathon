{
  "nbformat": 4,
  "nbformat_minor": 0,
  "metadata": {
    "colab": {
      "private_outputs": true,
      "provenance": [],
      "authorship_tag": "ABX9TyOVI8jiFMWfRJoFgiwgWPya",
      "include_colab_link": true
    },
    "kernelspec": {
      "name": "python3",
      "display_name": "Python 3"
    },
    "language_info": {
      "name": "python"
    }
  },
  "cells": [
    {
      "cell_type": "markdown",
      "metadata": {
        "id": "view-in-github",
        "colab_type": "text"
      },
      "source": [
        "<a href=\"https://colab.research.google.com/github/bhagesh-codebeast/hackathon/blob/main/hackathon_create_embeddings.ipynb\" target=\"_parent\"><img src=\"https://colab.research.google.com/assets/colab-badge.svg\" alt=\"Open In Colab\"/></a>"
      ]
    },
    {
      "cell_type": "markdown",
      "source": [
        "# Code To Create Local Embeddings\n",
        "1. Install packages\n",
        "2. Load Data\n",
        "3. Chunk Data\n",
        "4. Create embedding\n",
        "5. Save embeddings locally"
      ],
      "metadata": {
        "id": "fYVqtzb0P89S"
      }
    },
    {
      "cell_type": "code",
      "execution_count": null,
      "metadata": {
        "id": "6txTa-BNtzCx"
      },
      "outputs": [],
      "source": [
        "pip install chromadb pypdf langchain sentence-transformers"
      ]
    },
    {
      "cell_type": "code",
      "source": [
        "import chromadb\n",
        "from langchain.vectorstores import Chroma\n",
        "from langchain.document_loaders import TextLoader\n",
        "from langchain.text_splitter import CharacterTextSplitter\n",
        "from langchain.document_loaders import PyPDFLoader, PyPDFDirectoryLoader\n",
        "from langchain.embeddings.sentence_transformer import SentenceTransformerEmbeddings"
      ],
      "metadata": {
        "id": "se08OXH6vSRF"
      },
      "execution_count": null,
      "outputs": []
    },
    {
      "cell_type": "code",
      "source": [
        "# Load Text File\n",
        "loader = TextLoader('/content/sample_data/test.txt')\n",
        "docs = loader.load()"
      ],
      "metadata": {
        "id": "8j2d4ihfSCh4"
      },
      "execution_count": null,
      "outputs": []
    },
    {
      "cell_type": "code",
      "source": [
        "# Load Single PDF\n",
        "# loader = PyPDFLoader(\"/content/sample_data/nextflow.pdf\")\n",
        "# docs = loader.load_and_split()"
      ],
      "metadata": {
        "id": "OxX4Hl5Z5pEH"
      },
      "execution_count": null,
      "outputs": []
    },
    {
      "cell_type": "code",
      "source": [
        "# Load Directory containing PDF\n",
        "loader = PyPDFDirectoryLoader(\"/content/sample_data/\")\n",
        "docs = loader.load()"
      ],
      "metadata": {
        "id": "B452EEaf5pQC"
      },
      "execution_count": null,
      "outputs": []
    },
    {
      "cell_type": "code",
      "source": [
        "# Split Documents\n",
        "text_splitter = CharacterTextSplitter(chunk_size=1000, chunk_overlap=10)\n",
        "chunked_documents = text_splitter.split_documents(docs)"
      ],
      "metadata": {
        "id": "kE446HtzBcix"
      },
      "execution_count": null,
      "outputs": []
    },
    {
      "cell_type": "code",
      "source": [
        "# Create embeddings\n",
        "embedding_function = SentenceTransformerEmbeddings(model_name=\"all-MiniLM-L6-v2\")\n",
        "db = Chroma.from_documents(chunked_documents, embedding_function, persist_directory=\"/content/chroma_db\")"
      ],
      "metadata": {
        "id": "LVC6mRhoEu9d"
      },
      "execution_count": null,
      "outputs": []
    },
    {
      "cell_type": "code",
      "source": [
        "# load embeddings from disk\n",
        "db = Chroma(persist_directory=\"/content/chroma_db\", embedding_function=embedding_function)"
      ],
      "metadata": {
        "id": "wFBDnBKKC4Xc"
      },
      "execution_count": null,
      "outputs": []
    },
    {
      "cell_type": "code",
      "source": [
        "# References\n",
        "## 1. ChromaDB:\n",
        "  - https://docs.trychroma.com/getting-started\n",
        "  - https://python.langchain.com/docs/integrations/vectorstores/chroma#basic-example-including-saving-to-disk"
      ],
      "metadata": {
        "id": "mAWiYY1VvUFf"
      },
      "execution_count": null,
      "outputs": []
    }
  ]
}