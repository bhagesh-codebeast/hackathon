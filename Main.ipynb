{
  "nbformat": 4,
  "nbformat_minor": 0,
  "metadata": {
    "colab": {
      "provenance": [],
      "authorship_tag": "ABX9TyMmOl5iUr3TCgebBSrPqk2M",
      "include_colab_link": true
    },
    "kernelspec": {
      "name": "python3",
      "display_name": "Python 3"
    },
    "language_info": {
      "name": "python"
    }
  },
  "cells": [
    {
      "cell_type": "markdown",
      "metadata": {
        "id": "view-in-github",
        "colab_type": "text"
      },
      "source": [
        "<a href=\"https://colab.research.google.com/github/bhagesh-codebeast/hackathon/blob/dev/Main.ipynb\" target=\"_parent\"><img src=\"https://colab.research.google.com/assets/colab-badge.svg\" alt=\"Open In Colab\"/></a>"
      ]
    },
    {
      "cell_type": "code",
      "execution_count": null,
      "metadata": {
        "id": "2cuB-xS0A06V"
      },
      "outputs": [],
      "source": [
        "! pip install azure-ai-formrecognizer==3.2.0\n",
        "! pip install azure-core\n",
        "! python -m pip install azure-ai-vision\n",
        "! wget -O - https://www.openssl.org/source/openssl-1.1.1u.tar.gz | tar zxf -\n",
        "! cd openssl-1.1.1u\n",
        "! ./config --prefix=/usr/local\n",
        "! make -j $(nproc)\n",
        "! sudo make install_sw install_ssldirs\n",
        "! sudo ldconfig -v\n",
        "! export SSL_CERT_DIR=/etc/ssl/certs\n",
        "! cd -\n",
        "! sudo apt-get install build-essential libssl-dev wget"
      ]
    },
    {
      "cell_type": "code",
      "source": [
        "import os\n",
        "import azure.ai.vision as sdk\n",
        "from statistics import mean\n",
        "from azure.ai.formrecognizer import DocumentAnalysisClient\n",
        "from azure.core.credentials import AzureKeyCredential"
      ],
      "metadata": {
        "id": "W3KJG_7aA3cy"
      },
      "execution_count": null,
      "outputs": []
    },
    {
      "cell_type": "code",
      "source": [
        "# use your `key` and `endpoint` environment variables\n",
        "key = \"\"\n",
        "endpoint = \"https://robocoptest.cognitiveservices.azure.com/\"\n",
        "formUrl = \"https://raw.githubusercontent.com/Azure-Samples/cognitive-services-REST-api-samples/master/curl/form-recognizer/rest-api/read.png\""
      ],
      "metadata": {
        "id": "Lr0-ohTOBTHh"
      },
      "execution_count": null,
      "outputs": []
    },
    {
      "cell_type": "code",
      "source": [
        "# OCR Function\n",
        "class do_ocr:\n",
        "  def __init__(self, formUrl, model='prebuilt-read'):\n",
        "    self.formUrl = formUrl\n",
        "    self.model = model\n",
        "  def analyze_read(self):\n",
        "      document_analysis_client = DocumentAnalysisClient(endpoint=endpoint, credential=AzureKeyCredential(key))\n",
        "      poller = document_analysis_client.begin_analyze_document_from_url(self.model, self.formUrl)\n",
        "      result = poller.result()\n",
        "      dict_page = {}\n",
        "      word_confidence = []\n",
        "      for idx, style in enumerate(result.styles):\n",
        "          print(\"Document contains {} content\".format(\"handwritten\" if style.is_handwritten else \"no handwritten\"))\n",
        "      for page in result.pages:\n",
        "          dict_page['page_number'] = {page.page_number}\n",
        "          for word in page.words:\n",
        "            word_confidence.append({word.content:word.confidence})\n",
        "          dict_page['content'] = word_confidence\n",
        "      return result.content, dict_page\n",
        "  def preprocess_results(self):\n",
        "      content, predictions = self.analyze_read()\n",
        "      average_score = mean(value for dicts in predictions.get('content', []) for value in dicts.values())\n",
        "      final_dict = {key:value for dicts in predictions.get('content', []) for key, value in dicts.items() if value < average_score}\n",
        "      return content, average_score, final_dict\n",
        "\n",
        "if __name__ == \"__main__\":\n",
        "    instance = do_ocr(formUrl).preprocess_results()\n",
        "    content, average_score, final_dict = instance"
      ],
      "metadata": {
        "id": "83ItB0L2A6XZ"
      },
      "execution_count": null,
      "outputs": []
    },
    {
      "cell_type": "code",
      "source": [
        "# Output\n",
        "\n",
        "content\n",
        "average_score\n",
        "final_dict"
      ],
      "metadata": {
        "id": "GuYjHh06BuG3"
      },
      "execution_count": null,
      "outputs": []
    },
    {
      "cell_type": "code",
      "source": [
        "VISION_KEY=\"\"\n",
        "VISION_ENDPOINT=\"https://objectclassify.cognitiveservices.azure.com/\"\n",
        "url=\"https://learn.microsoft.com/azure/ai-services/computer-vision/media/quickstarts/presentation.png\"\n",
        "service_options = sdk.VisionServiceOptions(VISION_ENDPOINT,VISION_KEY)"
      ],
      "metadata": {
        "id": "DBnZ0HcuBZX3"
      },
      "execution_count": null,
      "outputs": []
    },
    {
      "cell_type": "code",
      "source": [
        "# OBject Classification\n",
        "\n",
        "class do_classification:\n",
        "  def __init__(self,url,service_options,language='en'):\n",
        "    self.url = url\n",
        "    self.language = language\n",
        "    self.service_options = service_options\n",
        "  def do_analysis(self):\n",
        "    vision_source = sdk.VisionSource(url=self.url)\n",
        "    analysis_options = sdk.ImageAnalysisOptions()\n",
        "    analysis_options.features = (sdk.ImageAnalysisFeature.CAPTION |sdk.ImageAnalysisFeature.TEXT)\n",
        "    analysis_options.language = self.language\n",
        "    analysis_options.gender_neutral_caption = True\n",
        "    image_analyzer = sdk.ImageAnalyzer(self.service_options, vision_source, analysis_options)\n",
        "    result = image_analyzer.analyze()\n",
        "    return result\n",
        "  def do_preprocessing(self):\n",
        "    result = self.do_analysis()\n",
        "    data_dict = {}\n",
        "    line_dict = {}\n",
        "    if result.reason == sdk.ImageAnalysisResultReason.ANALYZED:\n",
        "        if result.caption is not None:\n",
        "          data_dict['Caption'] = {result.caption.content:result.caption.confidence}\n",
        "        if result.text is not None:\n",
        "            for line in result.text.lines:\n",
        "                for word in line.words:\n",
        "                  line_dict[line.content] = {word.content:word.confidence}\n",
        "        return data_dict, line_dict\n",
        "    else:\n",
        "        error_details = sdk.ImageAnalysisErrorDetails.from_result(result)\n",
        "        print(\" Analysis failed.\")\n",
        "        print(\"   Error reason: {}\".format(error_details.reason))\n",
        "        print(\"   Error code: {}\".format(error_details.error_code))\n",
        "        print(\"   Error message: {}\".format(error_details.message))\n",
        "        return error_details, _"
      ],
      "metadata": {
        "id": "HYohC-IcBGQY"
      },
      "execution_count": null,
      "outputs": []
    },
    {
      "cell_type": "code",
      "source": [
        "instance = do_classification(url=url,service_options=sdk.VisionServiceOptions(VISION_ENDPOINT,VISION_KEY)).do_preprocessing()\n",
        "data_dict, line_dict = instance\n",
        "sentence = []\n",
        "for key, value in line_dict.items():\n",
        "  sentence.append(key)\n",
        "\n",
        "complete_sentence = ' '.join(sentence)"
      ],
      "metadata": {
        "id": "_KSWYBCYBlCg"
      },
      "execution_count": null,
      "outputs": []
    },
    {
      "cell_type": "code",
      "source": [
        "# Output\n",
        "complete_sentence\n",
        "data_dict"
      ],
      "metadata": {
        "id": "qhXALoCoB4Uf"
      },
      "execution_count": null,
      "outputs": []
    },
    {
      "cell_type": "markdown",
      "source": [
        "Reference:\n",
        "1. [Use Document Intelligence models](https://learn.microsoft.com/en-us/azure/ai-services/document-intelligence/how-to-guides/use-sdk-rest-api?view=doc-intel-4.0.0&tabs=linux&pivots=programming-language-python)\n",
        "2. [Quickstart: Image Analysis 4.0](https://learn.microsoft.com/en-us/azure/ai-services/computer-vision/quickstarts-sdk/image-analysis-client-library-40?tabs=visual-studio%2Clinux&pivots=programming-language-python)"
      ],
      "metadata": {
        "id": "8U8eX_e8CAmP"
      }
    },
    {
      "cell_type": "code",
      "source": [],
      "metadata": {
        "id": "8xrve4CnCBM2"
      },
      "execution_count": null,
      "outputs": []
    }
  ]
}